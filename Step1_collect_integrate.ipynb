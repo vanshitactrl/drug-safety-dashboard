{
 "cells": [
  {
   "cell_type": "markdown",
   "id": "3f449902",
   "metadata": {},
   "source": [
    "# Step 1 — Data Collection & Integration (Starter Notebook)\n",
    "Use this notebook to download datasets, clean names, and export clean tables for Power BI.\n",
    "Run cells top-to-bottom."
   ]
  },
  {
   "cell_type": "code",
   "execution_count": 1,
   "id": "8251121b",
   "metadata": {},
   "outputs": [
    {
     "name": "stdout",
     "output_type": "stream",
     "text": [
      "Folders ready: data\\raw data\\external data\\processed\n"
     ]
    }
   ],
   "source": [
    "# 0) Imports & paths\n",
    "import os, json, zipfile, io\n",
    "from pathlib import Path\n",
    "import pandas as pd\n",
    "import requests\n",
    "\n",
    "DATA_DIR = Path('./data')\n",
    "RAW = DATA_DIR/'raw'\n",
    "EXT = DATA_DIR/'external'\n",
    "PROC = DATA_DIR/'processed'\n",
    "for d in (DATA_DIR, RAW, EXT, PROC): d.mkdir(parents=True, exist_ok=True)\n",
    "\n",
    "print('Folders ready:', RAW, EXT, PROC)"
   ]
  },
  {
   "cell_type": "markdown",
   "id": "ed2b4707",
   "metadata": {},
   "source": [
    "## 1) RxNorm (US) — download Current Prescribable Content (CPC)\n",
    "- Files are weekly zip; we only need the **prescribe** zip and a few tables.\n",
    "- This cell expects you to paste the **download URL** into `RXNORM_URL`. See README."
   ]
  },
  {
   "cell_type": "code",
   "execution_count": null,
   "id": "91feb143",
   "metadata": {},
   "outputs": [],
   "source": [
    "# Paste latest prescribe zip URL (from RxNorm Files page)\n",
    "RXNORM_URL = ''  # e.g., 'https://download.nlm.nih.gov/umls/kss/rxnorm/RxNorm_weekly_prescribe_YYYYMMDD.zip'\n",
    "rx_zip = RAW/'rxnorm_prescribe.zip'\n",
    "\n",
    "if RXNORM_URL:\n",
    "    r = requests.get(RXNORM_URL, timeout=120)\n",
    "    r.raise_for_status()\n",
    "    rx_zip.write_bytes(r.content)\n",
    "    print('Downloaded to', rx_zip)\n",
    "else:\n",
    "    print('Set RXNORM_URL before running.')"
   ]
  },
  {
   "cell_type": "markdown",
   "id": "70d2ea35",
   "metadata": {},
   "source": [
    "### Parse RxNorm RRF (optional in Step 1)\n",
    "If you don't want to parse RRF yet, you can skip and use a prepared CSV later."
   ]
  },
  {
   "cell_type": "code",
   "execution_count": null,
   "id": "d5c2705f",
   "metadata": {},
   "outputs": [],
   "source": [
    "# TODO: parse RRF files to build rxnorm_products table\n",
    "# Placeholder: create an empty frame with correct columns\n",
    "rx_cols = ['rxcui','drug_name','dose_form','strength','ingredient_rxcui','ingredient_name','country','source_file','as_of_date']\n",
    "rxnorm_products = pd.DataFrame(columns=rx_cols)\n",
    "rxnorm_products.to_csv(PROC/'rxnorm_products.csv', index=False)\n",
    "rxnorm_products.head()"
   ]
  },
  {
   "cell_type": "markdown",
   "id": "b577d1af",
   "metadata": {},
   "source": [
    "## 2) Canada DPD — download All Files extract\n",
    "- Download the ZIP from Health Canada portal and place it in `data/raw/dpd_all_files.zip`.\n",
    "- We will read Active, Drug, and Ingredient tables and join."
   ]
  },
  {
   "cell_type": "code",
   "execution_count": null,
   "id": "e98227a3",
   "metadata": {},
   "outputs": [],
   "source": [
    "# If you manually downloaded, set the path here\n",
    "DPD_ZIP_PATH = RAW/'dpd_all_files.zip'\n",
    "\n",
    "if DPD_ZIP_PATH.exists():\n",
    "    print('Found DPD zip at', DPD_ZIP_PATH)\n",
    "else:\n",
    "    print('Place the DPD zip at', DPD_ZIP_PATH, 'then rerun this cell.')"
   ]
  },
  {
   "cell_type": "code",
   "execution_count": null,
   "id": "fc399aea",
   "metadata": {},
   "outputs": [],
   "source": [
    "# TODO: parse DPD tables into a single dpd_products.csv\n",
    "dpd_cols = ['drug_code','brand_name','proper_name','active_ingredient','strength','route','schedule','class','status','country','source_file','as_of_date']\n",
    "dpd_products = pd.DataFrame(columns=dpd_cols)\n",
    "dpd_products.to_csv(PROC/'dpd_products.csv', index=False)\n",
    "dpd_products.head()"
   ]
  },
  {
   "cell_type": "markdown",
   "id": "36e72f71",
   "metadata": {},
   "source": [
    "## 3) DailyMed Labels — API fetch (sample)\n",
    "Fetch label sections (e.g., Warnings, Adverse Reactions) for selected NDCs or setids."
   ]
  },
  {
   "cell_type": "code",
   "execution_count": null,
   "id": "e7a1bd40",
   "metadata": {},
   "outputs": [],
   "source": [
    "# Example: stub for pulling labels by setid list\n",
    "setids = []  # add DailyMed setids here\n",
    "dailymed_cols = ['setid','ndc','rxcui','brand_name','generic_name','section_name','section_text','version_date','source_url']\n",
    "labels_df = pd.DataFrame(columns=dailymed_cols)\n",
    "labels_df.to_csv(PROC/'dailymed_labels.csv', index=False)\n",
    "labels_df.head()"
   ]
  },
  {
   "cell_type": "markdown",
   "id": "b1c78bf8",
   "metadata": {},
   "source": [
    "## 4) FAERS / Canada Vigilance / CAERS — place files\n",
    "- Put quarterly FAERS extracts or API pulls in `data/raw/faers/`.\n",
    "- Put Canada Vigilance CSV extracts in `data/raw/cv/`.\n",
    "- Put CAERS CSV in `data/raw/caers/`.\n",
    "We'll standardize columns to the template."
   ]
  },
  {
   "cell_type": "code",
   "execution_count": null,
   "id": "6d901904",
   "metadata": {},
   "outputs": [],
   "source": [
    "# Create empty standardized CSVs for joining later\n",
    "cols = {\n",
    "    'faers_events': ['safetyreportid','receivedate','primarysourcecountry','patient_age','patient_sex','drug_name','rxcui','role_code','reaction_meddra_pt','serious','outcome','report_source'],\n",
    "    'canada_vigilance_events': ['report_id','received_date','age','sex','drug_name','dpd_drug_code','reaction_term','serious','outcome','reporter_type'],\n",
    "    'caers_events': ['report_id','created_date','product_type','brand_name','ingredients','adverse_event_term','serious','outcome','notes']\n",
    "}\n",
    "for name, c in cols.items():\n",
    "    path = (PROC/f\"{name}.csv\")\n",
    "    if not path.exists():\n",
    "        pd.DataFrame(columns=c).to_csv(path, index=False)\n",
    "        print('Created', path)"
   ]
  },
  {
   "cell_type": "markdown",
   "id": "0f8aacb4",
   "metadata": {},
   "source": [
    "## 5) Lookups & joins\n",
    "- Build a **brand → ingredient** lookup table.\n",
    "- Save unified tables for Power BI: `products.csv`, `ingredients.csv`, `side_effects.csv`."
   ]
  },
  {
   "cell_type": "code",
   "execution_count": null,
   "id": "d4d85da7",
   "metadata": {},
   "outputs": [],
   "source": [
    "# TODO joins (placeholder)\n",
    "lookups = pd.DataFrame(columns=['brand_name','normalized_ingredient','rxcui_or_inci','country','notes'])\n",
    "lookups.to_csv(PROC/'lookups.csv', index=False)\n",
    "\n",
    "print('Placeholders created in', PROC)"
   ]
  },
  {
   "cell_type": "code",
   "execution_count": 3,
   "id": "e16503d2-360d-4598-9d01-ebe6193b386a",
   "metadata": {},
   "outputs": [
    {
     "name": "stdout",
     "output_type": "stream",
     "text": [
      "Reading: data\\raw\\product.xls\n"
     ]
    },
    {
     "ename": "ValueError",
     "evalue": "Excel file format cannot be determined, you must specify an engine manually.",
     "output_type": "error",
     "traceback": [
      "\u001b[1;31m---------------------------------------------------------------------------\u001b[0m",
      "\u001b[1;31mValueError\u001b[0m                                Traceback (most recent call last)",
      "Cell \u001b[1;32mIn[3], line 19\u001b[0m\n\u001b[0;32m     16\u001b[0m \u001b[38;5;28mprint\u001b[39m(\u001b[38;5;124m\"\u001b[39m\u001b[38;5;124mReading:\u001b[39m\u001b[38;5;124m\"\u001b[39m, src)\n\u001b[0;32m     18\u001b[0m \u001b[38;5;66;03m# if you get an error for .xls, first run:  !pip install xlrd\u001b[39;00m\n\u001b[1;32m---> 19\u001b[0m df \u001b[38;5;241m=\u001b[39m pd\u001b[38;5;241m.\u001b[39mread_excel(src)\n\u001b[0;32m     21\u001b[0m \u001b[38;5;66;03m# pull the useful columns (some names may not exist depending on version)\u001b[39;00m\n\u001b[0;32m     22\u001b[0m \u001b[38;5;28;01mdef\u001b[39;00m \u001b[38;5;21mcol\u001b[39m(name):\n",
      "File \u001b[1;32mC:\\ANACONDA\\Lib\\site-packages\\pandas\\io\\excel\\_base.py:504\u001b[0m, in \u001b[0;36mread_excel\u001b[1;34m(io, sheet_name, header, names, index_col, usecols, dtype, engine, converters, true_values, false_values, skiprows, nrows, na_values, keep_default_na, na_filter, verbose, parse_dates, date_parser, date_format, thousands, decimal, comment, skipfooter, storage_options, dtype_backend, engine_kwargs)\u001b[0m\n\u001b[0;32m    502\u001b[0m \u001b[38;5;28;01mif\u001b[39;00m \u001b[38;5;129;01mnot\u001b[39;00m \u001b[38;5;28misinstance\u001b[39m(io, ExcelFile):\n\u001b[0;32m    503\u001b[0m     should_close \u001b[38;5;241m=\u001b[39m \u001b[38;5;28;01mTrue\u001b[39;00m\n\u001b[1;32m--> 504\u001b[0m     io \u001b[38;5;241m=\u001b[39m ExcelFile(\n\u001b[0;32m    505\u001b[0m         io,\n\u001b[0;32m    506\u001b[0m         storage_options\u001b[38;5;241m=\u001b[39mstorage_options,\n\u001b[0;32m    507\u001b[0m         engine\u001b[38;5;241m=\u001b[39mengine,\n\u001b[0;32m    508\u001b[0m         engine_kwargs\u001b[38;5;241m=\u001b[39mengine_kwargs,\n\u001b[0;32m    509\u001b[0m     )\n\u001b[0;32m    510\u001b[0m \u001b[38;5;28;01melif\u001b[39;00m engine \u001b[38;5;129;01mand\u001b[39;00m engine \u001b[38;5;241m!=\u001b[39m io\u001b[38;5;241m.\u001b[39mengine:\n\u001b[0;32m    511\u001b[0m     \u001b[38;5;28;01mraise\u001b[39;00m \u001b[38;5;167;01mValueError\u001b[39;00m(\n\u001b[0;32m    512\u001b[0m         \u001b[38;5;124m\"\u001b[39m\u001b[38;5;124mEngine should not be specified when passing \u001b[39m\u001b[38;5;124m\"\u001b[39m\n\u001b[0;32m    513\u001b[0m         \u001b[38;5;124m\"\u001b[39m\u001b[38;5;124man ExcelFile - ExcelFile already has the engine set\u001b[39m\u001b[38;5;124m\"\u001b[39m\n\u001b[0;32m    514\u001b[0m     )\n",
      "File \u001b[1;32mC:\\ANACONDA\\Lib\\site-packages\\pandas\\io\\excel\\_base.py:1567\u001b[0m, in \u001b[0;36mExcelFile.__init__\u001b[1;34m(self, path_or_buffer, engine, storage_options, engine_kwargs)\u001b[0m\n\u001b[0;32m   1563\u001b[0m     ext \u001b[38;5;241m=\u001b[39m inspect_excel_format(\n\u001b[0;32m   1564\u001b[0m         content_or_path\u001b[38;5;241m=\u001b[39mpath_or_buffer, storage_options\u001b[38;5;241m=\u001b[39mstorage_options\n\u001b[0;32m   1565\u001b[0m     )\n\u001b[0;32m   1566\u001b[0m     \u001b[38;5;28;01mif\u001b[39;00m ext \u001b[38;5;129;01mis\u001b[39;00m \u001b[38;5;28;01mNone\u001b[39;00m:\n\u001b[1;32m-> 1567\u001b[0m         \u001b[38;5;28;01mraise\u001b[39;00m \u001b[38;5;167;01mValueError\u001b[39;00m(\n\u001b[0;32m   1568\u001b[0m             \u001b[38;5;124m\"\u001b[39m\u001b[38;5;124mExcel file format cannot be determined, you must specify \u001b[39m\u001b[38;5;124m\"\u001b[39m\n\u001b[0;32m   1569\u001b[0m             \u001b[38;5;124m\"\u001b[39m\u001b[38;5;124man engine manually.\u001b[39m\u001b[38;5;124m\"\u001b[39m\n\u001b[0;32m   1570\u001b[0m         )\n\u001b[0;32m   1572\u001b[0m engine \u001b[38;5;241m=\u001b[39m config\u001b[38;5;241m.\u001b[39mget_option(\u001b[38;5;124mf\u001b[39m\u001b[38;5;124m\"\u001b[39m\u001b[38;5;124mio.excel.\u001b[39m\u001b[38;5;132;01m{\u001b[39;00mext\u001b[38;5;132;01m}\u001b[39;00m\u001b[38;5;124m.reader\u001b[39m\u001b[38;5;124m\"\u001b[39m, silent\u001b[38;5;241m=\u001b[39m\u001b[38;5;28;01mTrue\u001b[39;00m)\n\u001b[0;32m   1573\u001b[0m \u001b[38;5;28;01mif\u001b[39;00m engine \u001b[38;5;241m==\u001b[39m \u001b[38;5;124m\"\u001b[39m\u001b[38;5;124mauto\u001b[39m\u001b[38;5;124m\"\u001b[39m:\n",
      "\u001b[1;31mValueError\u001b[0m: Excel file format cannot be determined, you must specify an engine manually."
     ]
    }
   ],
   "source": [
    "# Read NDC \"product\" Excel and save a clean table as rxnorm_products.csv\n",
    "\n",
    "from pathlib import Path\n",
    "import pandas as pd\n",
    "from datetime import date\n",
    "\n",
    "RAW = Path(\"data/raw\")\n",
    "PROC = Path(\"data/processed\")\n",
    "PROC.mkdir(parents=True, exist_ok=True)\n",
    "\n",
    "# find the product file (you have product.xls)\n",
    "candidates = list(RAW.glob(\"ndc_products.xlsx\")) + list(RAW.glob(\"product.*\"))\n",
    "if not candidates:\n",
    "    raise FileNotFoundError(\"Put your NDC product Excel in data/raw/ (e.g., product.xls or ndc_products.xlsx)\")\n",
    "src = candidates[0]\n",
    "print(\"Reading:\", src)\n",
    "\n",
    "# if you get an error for .xls, first run:  !pip install xlrd\n",
    "df = pd.read_excel(src)\n",
    "\n",
    "# pull the useful columns (some names may not exist depending on version)\n",
    "def col(name):\n",
    "    return df[name] if name in df.columns else pd.Series([None]*len(df))\n",
    "\n",
    "brand = col(\"PROPRIETARYNAME\")\n",
    "brand_suffix = col(\"PROPRIETARYNAMESUFFIX\")\n",
    "generic = col(\"NONPROPRIETARYNAME\")\n",
    "dose_form = col(\"DOSAGEFORMNAME\")\n",
    "num_strength = col(\"ACTIVE_NUMERATOR_STRENGTH\")\n",
    "unit_strength = col(\"ACTIVE_INGRED_UNIT\")\n",
    "substance = col(\"SUBSTANCENAME\")  # can be \"A; B; C\"\n",
    "\n",
    "# make display name (brand + suffix, else generic)\n",
    "drug_name = brand.fillna(\"\").str.strip()\n",
    "drug_name = (drug_name + (\" \" + brand_suffix.fillna(\"\").str.strip())).str.strip()\n",
    "drug_name = drug_name.mask(drug_name.eq(\"\"), generic)\n",
    "\n",
    "# strength text\n",
    "strength_txt = (\n",
    "    num_strength.fillna(\"\").astype(str).str.strip()\n",
    "    + \" \"\n",
    "    + unit_strength.fillna(\"\").astype(str).str.strip()\n",
    ").str.strip()\n",
    "strength_txt = strength_txt.replace({\"nan nan\": \"\"})\n",
    "\n",
    "base = pd.DataFrame({\n",
    "    \"rxcui\": \"\",                    # not in NDC\n",
    "    \"drug_name\": drug_name,\n",
    "    \"dose_form\": dose_form,\n",
    "    \"strength\": strength_txt,\n",
    "    \"ingredient_rxcui\": \"\",         # not in NDC\n",
    "    \"ingredient_name\": substance,   # may be multiple separated by \";\"\n",
    "    \"country\": \"US\",\n",
    "    \"source_file\": src.name,\n",
    "    \"as_of_date\": date.today().isoformat(),\n",
    "})\n",
    "\n",
    "# split multi-ingredient rows (\"A; B; C\") into separate rows\n",
    "f = base.copy()\n",
    "f[\"ingredient_name\"] = f[\"ingredient_name\"].fillna(\"\").astype(str)\n",
    "f[\"ingredient_name\"] = (\n",
    "    f[\"ingredient_name\"]\n",
    "    .str.replace(r\"\\s*;\\s*\", \"|\", regex=True)\n",
    "    .str.split(\"|\")\n",
    ")\n",
    "f = f.explode(\"ingredient_name\")\n",
    "f[\"ingredient_name\"] = f[\"ingredient_name\"].str.strip()\n",
    "f = f[f[\"ingredient_name\"] != \"\"]\n",
    "\n",
    "cols = [\"rxcui\",\"drug_name\",\"dose_form\",\"strength\",\"ingredient_rxcui\",\"ingredient_name\",\"country\",\"source_file\",\"as_of_date\"]\n",
    "out = f.loc[:, cols].drop_duplicates()\n",
    "\n",
    "out_path = PROC / \"rxnorm_products.csv\"\n",
    "out.to_csv(out_path, index=False)\n",
    "print(f\"Saved {len(out):,} rows to {out_path}\")\n",
    "out.head(10)\n"
   ]
  },
  {
   "cell_type": "code",
   "execution_count": 4,
   "id": "23f11976-97bc-4ebb-b76f-257b91d7ceac",
   "metadata": {},
   "outputs": [
    {
     "name": "stdout",
     "output_type": "stream",
     "text": [
      "Collecting xlrd\n",
      "  Downloading xlrd-2.0.2-py2.py3-none-any.whl.metadata (3.5 kB)\n",
      "Requirement already satisfied: openpyxl in c:\\anaconda\\lib\\site-packages (3.0.10)\n",
      "Requirement already satisfied: et_xmlfile in c:\\anaconda\\lib\\site-packages (from openpyxl) (1.1.0)\n",
      "Downloading xlrd-2.0.2-py2.py3-none-any.whl (96 kB)\n",
      "   ---------------------------------------- 0.0/96.6 kB ? eta -:--:--\n",
      "   ---- ----------------------------------- 10.2/96.6 kB ? eta -:--:--\n",
      "   ---- ----------------------------------- 10.2/96.6 kB ? eta -:--:--\n",
      "   ------------------------- -------------- 61.4/96.6 kB 465.5 kB/s eta 0:00:01\n",
      "   ---------------------------------------- 96.6/96.6 kB 612.2 kB/s eta 0:00:00\n",
      "Installing collected packages: xlrd\n",
      "Successfully installed xlrd-2.0.2\n"
     ]
    }
   ],
   "source": [
    "!pip install xlrd openpyxl\n"
   ]
  },
  {
   "cell_type": "code",
   "execution_count": 5,
   "id": "928097d1-1367-4afd-9db6-c9101b6b1333",
   "metadata": {},
   "outputs": [
    {
     "name": "stdout",
     "output_type": "stream",
     "text": [
      ".xls\n"
     ]
    }
   ],
   "source": [
    "import os\n",
    "\n",
    "src = \"product.xls\"  # or the full path if needed\n",
    "print(os.path.splitext(src)[1])  # This will show the extension\n"
   ]
  },
  {
   "cell_type": "code",
   "execution_count": 10,
   "id": "0d45e4d7-27eb-4cb7-901a-98ee5486a3d7",
   "metadata": {},
   "outputs": [
    {
     "ename": "FileNotFoundError",
     "evalue": "[Errno 2] No such file or directory: 'C:\\\\Users\\\\Hp\\\\Downloads\\\\drug-safety-explorer-step0\\\\drug-safety-explorer\\\\data\\\\raw\\\\product.xlsx'",
     "output_type": "error",
     "traceback": [
      "\u001b[1;31m---------------------------------------------------------------------------\u001b[0m",
      "\u001b[1;31mFileNotFoundError\u001b[0m                         Traceback (most recent call last)",
      "Cell \u001b[1;32mIn[10], line 4\u001b[0m\n\u001b[0;32m      1\u001b[0m \u001b[38;5;28;01mimport\u001b[39;00m \u001b[38;5;21;01mpandas\u001b[39;00m \u001b[38;5;28;01mas\u001b[39;00m \u001b[38;5;21;01mpd\u001b[39;00m\n\u001b[0;32m      3\u001b[0m src \u001b[38;5;241m=\u001b[39m \u001b[38;5;124mr\u001b[39m\u001b[38;5;124m\"\u001b[39m\u001b[38;5;124mC:\u001b[39m\u001b[38;5;124m\\\u001b[39m\u001b[38;5;124mUsers\u001b[39m\u001b[38;5;124m\\\u001b[39m\u001b[38;5;124mHp\u001b[39m\u001b[38;5;124m\\\u001b[39m\u001b[38;5;124mDownloads\u001b[39m\u001b[38;5;124m\\\u001b[39m\u001b[38;5;124mdrug-safety-explorer-step0\u001b[39m\u001b[38;5;124m\\\u001b[39m\u001b[38;5;124mdrug-safety-explorer\u001b[39m\u001b[38;5;124m\\\u001b[39m\u001b[38;5;124mdata\u001b[39m\u001b[38;5;124m\\\u001b[39m\u001b[38;5;124mraw\u001b[39m\u001b[38;5;124m\\\u001b[39m\u001b[38;5;124mproduct.xlsx\u001b[39m\u001b[38;5;124m\"\u001b[39m\n\u001b[1;32m----> 4\u001b[0m df \u001b[38;5;241m=\u001b[39m pd\u001b[38;5;241m.\u001b[39mread_excel(src, engine\u001b[38;5;241m=\u001b[39m\u001b[38;5;124m'\u001b[39m\u001b[38;5;124mopenpyxl\u001b[39m\u001b[38;5;124m'\u001b[39m)\n\u001b[0;32m      5\u001b[0m \u001b[38;5;28mprint\u001b[39m(df\u001b[38;5;241m.\u001b[39mhead())\n",
      "File \u001b[1;32mC:\\ANACONDA\\Lib\\site-packages\\pandas\\io\\excel\\_base.py:504\u001b[0m, in \u001b[0;36mread_excel\u001b[1;34m(io, sheet_name, header, names, index_col, usecols, dtype, engine, converters, true_values, false_values, skiprows, nrows, na_values, keep_default_na, na_filter, verbose, parse_dates, date_parser, date_format, thousands, decimal, comment, skipfooter, storage_options, dtype_backend, engine_kwargs)\u001b[0m\n\u001b[0;32m    502\u001b[0m \u001b[38;5;28;01mif\u001b[39;00m \u001b[38;5;129;01mnot\u001b[39;00m \u001b[38;5;28misinstance\u001b[39m(io, ExcelFile):\n\u001b[0;32m    503\u001b[0m     should_close \u001b[38;5;241m=\u001b[39m \u001b[38;5;28;01mTrue\u001b[39;00m\n\u001b[1;32m--> 504\u001b[0m     io \u001b[38;5;241m=\u001b[39m ExcelFile(\n\u001b[0;32m    505\u001b[0m         io,\n\u001b[0;32m    506\u001b[0m         storage_options\u001b[38;5;241m=\u001b[39mstorage_options,\n\u001b[0;32m    507\u001b[0m         engine\u001b[38;5;241m=\u001b[39mengine,\n\u001b[0;32m    508\u001b[0m         engine_kwargs\u001b[38;5;241m=\u001b[39mengine_kwargs,\n\u001b[0;32m    509\u001b[0m     )\n\u001b[0;32m    510\u001b[0m \u001b[38;5;28;01melif\u001b[39;00m engine \u001b[38;5;129;01mand\u001b[39;00m engine \u001b[38;5;241m!=\u001b[39m io\u001b[38;5;241m.\u001b[39mengine:\n\u001b[0;32m    511\u001b[0m     \u001b[38;5;28;01mraise\u001b[39;00m \u001b[38;5;167;01mValueError\u001b[39;00m(\n\u001b[0;32m    512\u001b[0m         \u001b[38;5;124m\"\u001b[39m\u001b[38;5;124mEngine should not be specified when passing \u001b[39m\u001b[38;5;124m\"\u001b[39m\n\u001b[0;32m    513\u001b[0m         \u001b[38;5;124m\"\u001b[39m\u001b[38;5;124man ExcelFile - ExcelFile already has the engine set\u001b[39m\u001b[38;5;124m\"\u001b[39m\n\u001b[0;32m    514\u001b[0m     )\n",
      "File \u001b[1;32mC:\\ANACONDA\\Lib\\site-packages\\pandas\\io\\excel\\_base.py:1580\u001b[0m, in \u001b[0;36mExcelFile.__init__\u001b[1;34m(self, path_or_buffer, engine, storage_options, engine_kwargs)\u001b[0m\n\u001b[0;32m   1577\u001b[0m \u001b[38;5;28mself\u001b[39m\u001b[38;5;241m.\u001b[39mengine \u001b[38;5;241m=\u001b[39m engine\n\u001b[0;32m   1578\u001b[0m \u001b[38;5;28mself\u001b[39m\u001b[38;5;241m.\u001b[39mstorage_options \u001b[38;5;241m=\u001b[39m storage_options\n\u001b[1;32m-> 1580\u001b[0m \u001b[38;5;28mself\u001b[39m\u001b[38;5;241m.\u001b[39m_reader \u001b[38;5;241m=\u001b[39m \u001b[38;5;28mself\u001b[39m\u001b[38;5;241m.\u001b[39m_engines[engine](\n\u001b[0;32m   1581\u001b[0m     \u001b[38;5;28mself\u001b[39m\u001b[38;5;241m.\u001b[39m_io,\n\u001b[0;32m   1582\u001b[0m     storage_options\u001b[38;5;241m=\u001b[39mstorage_options,\n\u001b[0;32m   1583\u001b[0m     engine_kwargs\u001b[38;5;241m=\u001b[39mengine_kwargs,\n\u001b[0;32m   1584\u001b[0m )\n",
      "File \u001b[1;32mC:\\ANACONDA\\Lib\\site-packages\\pandas\\io\\excel\\_openpyxl.py:553\u001b[0m, in \u001b[0;36mOpenpyxlReader.__init__\u001b[1;34m(self, filepath_or_buffer, storage_options, engine_kwargs)\u001b[0m\n\u001b[0;32m    541\u001b[0m \u001b[38;5;250m\u001b[39m\u001b[38;5;124;03m\"\"\"\u001b[39;00m\n\u001b[0;32m    542\u001b[0m \u001b[38;5;124;03mReader using openpyxl engine.\u001b[39;00m\n\u001b[0;32m    543\u001b[0m \n\u001b[1;32m   (...)\u001b[0m\n\u001b[0;32m    550\u001b[0m \u001b[38;5;124;03m    Arbitrary keyword arguments passed to excel engine.\u001b[39;00m\n\u001b[0;32m    551\u001b[0m \u001b[38;5;124;03m\"\"\"\u001b[39;00m\n\u001b[0;32m    552\u001b[0m import_optional_dependency(\u001b[38;5;124m\"\u001b[39m\u001b[38;5;124mopenpyxl\u001b[39m\u001b[38;5;124m\"\u001b[39m)\n\u001b[1;32m--> 553\u001b[0m \u001b[38;5;28msuper\u001b[39m()\u001b[38;5;241m.\u001b[39m\u001b[38;5;21m__init__\u001b[39m(\n\u001b[0;32m    554\u001b[0m     filepath_or_buffer,\n\u001b[0;32m    555\u001b[0m     storage_options\u001b[38;5;241m=\u001b[39mstorage_options,\n\u001b[0;32m    556\u001b[0m     engine_kwargs\u001b[38;5;241m=\u001b[39mengine_kwargs,\n\u001b[0;32m    557\u001b[0m )\n",
      "File \u001b[1;32mC:\\ANACONDA\\Lib\\site-packages\\pandas\\io\\excel\\_base.py:572\u001b[0m, in \u001b[0;36mBaseExcelReader.__init__\u001b[1;34m(self, filepath_or_buffer, storage_options, engine_kwargs)\u001b[0m\n\u001b[0;32m    568\u001b[0m \u001b[38;5;28mself\u001b[39m\u001b[38;5;241m.\u001b[39mhandles \u001b[38;5;241m=\u001b[39m IOHandles(\n\u001b[0;32m    569\u001b[0m     handle\u001b[38;5;241m=\u001b[39mfilepath_or_buffer, compression\u001b[38;5;241m=\u001b[39m{\u001b[38;5;124m\"\u001b[39m\u001b[38;5;124mmethod\u001b[39m\u001b[38;5;124m\"\u001b[39m: \u001b[38;5;28;01mNone\u001b[39;00m}\n\u001b[0;32m    570\u001b[0m )\n\u001b[0;32m    571\u001b[0m \u001b[38;5;28;01mif\u001b[39;00m \u001b[38;5;129;01mnot\u001b[39;00m \u001b[38;5;28misinstance\u001b[39m(filepath_or_buffer, (ExcelFile, \u001b[38;5;28mself\u001b[39m\u001b[38;5;241m.\u001b[39m_workbook_class)):\n\u001b[1;32m--> 572\u001b[0m     \u001b[38;5;28mself\u001b[39m\u001b[38;5;241m.\u001b[39mhandles \u001b[38;5;241m=\u001b[39m get_handle(\n\u001b[0;32m    573\u001b[0m         filepath_or_buffer, \u001b[38;5;124m\"\u001b[39m\u001b[38;5;124mrb\u001b[39m\u001b[38;5;124m\"\u001b[39m, storage_options\u001b[38;5;241m=\u001b[39mstorage_options, is_text\u001b[38;5;241m=\u001b[39m\u001b[38;5;28;01mFalse\u001b[39;00m\n\u001b[0;32m    574\u001b[0m     )\n\u001b[0;32m    576\u001b[0m \u001b[38;5;28;01mif\u001b[39;00m \u001b[38;5;28misinstance\u001b[39m(\u001b[38;5;28mself\u001b[39m\u001b[38;5;241m.\u001b[39mhandles\u001b[38;5;241m.\u001b[39mhandle, \u001b[38;5;28mself\u001b[39m\u001b[38;5;241m.\u001b[39m_workbook_class):\n\u001b[0;32m    577\u001b[0m     \u001b[38;5;28mself\u001b[39m\u001b[38;5;241m.\u001b[39mbook \u001b[38;5;241m=\u001b[39m \u001b[38;5;28mself\u001b[39m\u001b[38;5;241m.\u001b[39mhandles\u001b[38;5;241m.\u001b[39mhandle\n",
      "File \u001b[1;32mC:\\ANACONDA\\Lib\\site-packages\\pandas\\io\\common.py:872\u001b[0m, in \u001b[0;36mget_handle\u001b[1;34m(path_or_buf, mode, encoding, compression, memory_map, is_text, errors, storage_options)\u001b[0m\n\u001b[0;32m    863\u001b[0m         handle \u001b[38;5;241m=\u001b[39m \u001b[38;5;28mopen\u001b[39m(\n\u001b[0;32m    864\u001b[0m             handle,\n\u001b[0;32m    865\u001b[0m             ioargs\u001b[38;5;241m.\u001b[39mmode,\n\u001b[1;32m   (...)\u001b[0m\n\u001b[0;32m    868\u001b[0m             newline\u001b[38;5;241m=\u001b[39m\u001b[38;5;124m\"\u001b[39m\u001b[38;5;124m\"\u001b[39m,\n\u001b[0;32m    869\u001b[0m         )\n\u001b[0;32m    870\u001b[0m     \u001b[38;5;28;01melse\u001b[39;00m:\n\u001b[0;32m    871\u001b[0m         \u001b[38;5;66;03m# Binary mode\u001b[39;00m\n\u001b[1;32m--> 872\u001b[0m         handle \u001b[38;5;241m=\u001b[39m \u001b[38;5;28mopen\u001b[39m(handle, ioargs\u001b[38;5;241m.\u001b[39mmode)\n\u001b[0;32m    873\u001b[0m     handles\u001b[38;5;241m.\u001b[39mappend(handle)\n\u001b[0;32m    875\u001b[0m \u001b[38;5;66;03m# Convert BytesIO or file objects passed with an encoding\u001b[39;00m\n",
      "\u001b[1;31mFileNotFoundError\u001b[0m: [Errno 2] No such file or directory: 'C:\\\\Users\\\\Hp\\\\Downloads\\\\drug-safety-explorer-step0\\\\drug-safety-explorer\\\\data\\\\raw\\\\product.xlsx'"
     ]
    }
   ],
   "source": [
    "import pandas as pd\n",
    "\n",
    "src = r\"C:\\Users\\Hp\\Downloads\\drug-safety-explorer-step0\\drug-safety-explorer\\data\\raw\\product.xlsx\"\n",
    "df = pd.read_excel(src, engine='openpyxl')\n",
    "print(df.head())\n"
   ]
  },
  {
   "cell_type": "code",
   "execution_count": null,
   "id": "c85dad36-e5c4-4f79-9ddb-8cc6bf72d6ac",
   "metadata": {},
   "outputs": [],
   "source": []
  },
  {
   "cell_type": "code",
   "execution_count": null,
   "id": "f3e442b3-d66f-4032-bf64-64d3bc6233e2",
   "metadata": {},
   "outputs": [],
   "source": []
  }
 ],
 "metadata": {
  "kernelspec": {
   "display_name": "Python 3 (ipykernel)",
   "language": "python",
   "name": "python3"
  },
  "language_info": {
   "codemirror_mode": {
    "name": "ipython",
    "version": 3
   },
   "file_extension": ".py",
   "mimetype": "text/x-python",
   "name": "python",
   "nbconvert_exporter": "python",
   "pygments_lexer": "ipython3",
   "version": "3.10.18"
  }
 },
 "nbformat": 4,
 "nbformat_minor": 5
}
